{
 "cells": [
  {
   "cell_type": "code",
   "execution_count": 3,
   "id": "f867949c",
   "metadata": {},
   "outputs": [
    {
     "name": "stdout",
     "output_type": "stream",
     "text": [
      "Enter 1 number: 1\n",
      "factorial of  1  is :  1\n"
     ]
    }
   ],
   "source": [
    "n = int(input(\"Enter 1 number: \"))\n",
    "fact = 1\n",
    "if n >= 1:\n",
    "    for i in range (1, n+1):\n",
    "        fact = fact * i\n",
    "print(\"factorial of \", n , \" is : \", fact)"
   ]
  },
  {
   "cell_type": "code",
   "execution_count": 2,
   "id": "152988c4",
   "metadata": {},
   "outputs": [
    {
     "name": "stdout",
     "output_type": "stream",
     "text": [
      "Enter any number : 2\n",
      "2 is a PRIME number\n"
     ]
    }
   ],
   "source": [
    "# A prime number is divisible by 1 and itself only.\n",
    "# 1 is not a prime number\n",
    "num = int(input(\"Enter any number : \"))\n",
    "if num > 1:                     # 1 is not a prime number\n",
    "    for i in range(2, num): \n",
    "        if (num % i) == 0:\n",
    "            # if it is divisible by any number other than itself and 1\n",
    "            print(num, \"is a COMPOSITE number\")\n",
    "            break\n",
    "    else:\n",
    "        print(num, \"is a PRIME number\")\n",
    "elif num == 0 or 1:\n",
    "    print(num, \"is a neither prime nor composite number\")\n",
    "else:\n",
    "    print(num, \"-na-\")"
   ]
  },
  {
   "cell_type": "code",
   "execution_count": 4,
   "id": "6ad72407",
   "metadata": {},
   "outputs": [
    {
     "name": "stdout",
     "output_type": "stream",
     "text": [
      "String radar1 is not a palindrome\n"
     ]
    }
   ],
   "source": [
    "mstr = 'radar1'   \n",
    "mstr2 = ''\n",
    "for i in range(len(mstr),0,-1):\n",
    "    mstr2 += mstr[i-1]\n",
    "if mstr==mstr2:\n",
    "    print('String', mstr, 'is a palindrome')\n",
    "else:\n",
    "    print('String', mstr, 'is not a palindrome')"
   ]
  },
  {
   "cell_type": "code",
   "execution_count": 5,
   "id": "c6192662",
   "metadata": {},
   "outputs": [
    {
     "name": "stdout",
     "output_type": "stream",
     "text": [
      "12.0\n"
     ]
    }
   ],
   "source": [
    "import math as m \n",
    "x = 5   # one side\n",
    "y = 13  # hypotenuse\n",
    "if y > x:\n",
    "    print( m.sqrt(y*y-x*x))\n",
    "else:\n",
    "    print(m.sqrt(x*x-y*y))"
   ]
  },
  {
   "cell_type": "code",
   "execution_count": 6,
   "id": "0776f377",
   "metadata": {},
   "outputs": [
    {
     "name": "stdout",
     "output_type": "stream",
     "text": [
      "[0, 1, 2, 3, 4, 5]\n",
      "r 2\n",
      "a 2\n",
      "d 1\n",
      "a 2\n",
      "r 2\n",
      "1 1\n"
     ]
    }
   ],
   "source": [
    "mstr = 'radar1' \n",
    "counter = int(0)\n",
    "print(list(range(0,len(mstr))))\n",
    "for i in range(0,len(mstr)):\n",
    "    counter=0\n",
    "    for j in range(0, len(mstr)):\n",
    "        if mstr[j]== mstr[i]:\n",
    "            counter+=1\n",
    "    print(mstr[i], counter)"
   ]
  },
  {
   "cell_type": "code",
   "execution_count": null,
   "id": "9ae52eca",
   "metadata": {},
   "outputs": [],
   "source": []
  }
 ],
 "metadata": {
  "kernelspec": {
   "display_name": "Python 3",
   "language": "python",
   "name": "python3"
  },
  "language_info": {
   "codemirror_mode": {
    "name": "ipython",
    "version": 3
   },
   "file_extension": ".py",
   "mimetype": "text/x-python",
   "name": "python",
   "nbconvert_exporter": "python",
   "pygments_lexer": "ipython3",
   "version": "3.8.8"
  }
 },
 "nbformat": 4,
 "nbformat_minor": 5
}
